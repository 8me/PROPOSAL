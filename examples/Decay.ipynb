{
 "cells": [
  {
   "cell_type": "code",
   "execution_count": 11,
   "metadata": {},
   "outputs": [],
   "source": [
    "import proposal as pp\n",
    "import numpy as np\n",
    "import matplotlib.pyplot as plt\n",
    "\n",
    "pp.InterpolationDef.path_to_tables = \"/home/msackel/.local/share/PROPOSAL/\"\n",
    "\n",
    "N_SAMPLES = 100"
   ]
  },
  {
   "cell_type": "code",
   "execution_count": 12,
   "metadata": {},
   "outputs": [],
   "source": [
    "args = {\n",
    "    \"particle_def\": pp.particle.MuMinusDef(),\n",
    "    \"target\": pp.medium.StandardRock(),\n",
    "    \"interpolate\": True,\n",
    "    \"cuts\": pp.EnergyCutSettings(500, 1, False)\n",
    "}\n",
    "\n",
    "cross = pp.crosssection.make_std_crosssection(**args)\n",
    "decay = pp.make_decay(cross, args[\"particle_def\"], True)"
   ]
  },
  {
   "cell_type": "code",
   "execution_count": 22,
   "metadata": {},
   "outputs": [],
   "source": [
    "SAMPLE_SIZE = int(1e7)\n",
    "decay_energy = decay.energy_decay([1e14]*SAMPLE_SIZE, np.random.rand(SAMPLE_SIZE), [args[\"target\"].mass_density]*SAMPLE_SIZE)"
   ]
  },
  {
   "cell_type": "code",
   "execution_count": 24,
   "metadata": {},
   "outputs": [
    {
     "data": {
      "image/png": "[encoded data removed]",
      "text/plain": [
       "<Figure size 432x288 with 1 Axes>"
      ]
     },
     "metadata": {
      "needs_background": "light"
     },
     "output_type": "display_data"
    }
   ],
   "source": [
    "plt.hist(decay_energy, bins=np.geomspace(args[\"particle_def\"].mass, 1e14, 20))\n",
    "plt.xlabel(\"decay energy / MeV\")\n",
    "plt.ylabel(\"counts\")\n",
    "plt.yscale(\"log\")\n",
    "plt.xscale(\"log\")"
   ]
  },
  {
   "cell_type": "code",
   "execution_count": null,
   "metadata": {},
   "outputs": [],
   "source": []
  }
 ],
 "metadata": {
  "kernelspec": {
   "display_name": "Python 3",
   "language": "python",
   "name": "python3"
  },
  "language_info": {
   "codemirror_mode": {
    "name": "ipython",
    "version": 3
   },
   "file_extension": ".py",
   "mimetype": "text/x-python",
   "name": "python",
   "nbconvert_exporter": "python",
   "pygments_lexer": "ipython3",
   "version": "3.8.5"
  }
 },
 "nbformat": 4,
 "nbformat_minor": 4
}
