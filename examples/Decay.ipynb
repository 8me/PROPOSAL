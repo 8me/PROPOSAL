{
 "cells": [
  {
   "cell_type": "code",
   "execution_count": 1,
   "metadata": {},
   "outputs": [],
   "source": [
    "import proposal as pp\n",
    "import numpy as np\n",
    "import matplotlib.pyplot as plt\n",
    "\n",
    "plt.rcParams['figure.figsize'] = (8, 6)\n",
    "plt.rcParams['font.size'] = 12\n",
    "plt.rcParams['lines.linewidth'] = 2\n",
    "plt.rcParams['axes.labelsize'] = 14"
   ]
  },
  {
   "cell_type": "code",
   "execution_count": 2,
   "metadata": {},
   "outputs": [],
   "source": [
    "SAMPLE_SIZE = int(1e7)\n",
    "pp.InterpolationSettings.tables_path = \"/tmp\" # save interpolation tables to folder"
   ]
  },
  {
   "cell_type": "markdown",
   "metadata": {},
   "source": [
    "The decay module can calculate the energy when a particle with finite lifetime will decay.\n",
    "\n",
    "*When executed for the first time, the following cell will take some time since interpolation tables are built*"
   ]
  },
  {
   "cell_type": "code",
   "execution_count": 3,
   "metadata": {},
   "outputs": [],
   "source": [
    "args = {\n",
    "    \"particle_def\": pp.particle.MuMinusDef(),\n",
    "    \"target\": pp.medium.StandardRock(),\n",
    "    \"interpolate\": True,\n",
    "    \"cuts\": pp.EnergyCutSettings(500, 1, False)\n",
    "}\n",
    "\n",
    "cross = pp.crosssection.make_std_crosssection(**args)\n",
    "decay = pp.make_decay(cross, args[\"particle_def\"], True)"
   ]
  },
  {
   "cell_type": "markdown",
   "metadata": {},
   "source": [
    "Let's take muons with an initial energy of $10^{14} \\mathrm{MeV}$ and sample the energy when the muons will decay"
   ]
  },
  {
   "cell_type": "code",
   "execution_count": 4,
   "metadata": {},
   "outputs": [],
   "source": [
    "decay_energy = decay.energy_decay([1e14]*SAMPLE_SIZE, np.random.rand(SAMPLE_SIZE), [args[\"target\"].mass_density]*SAMPLE_SIZE)"
   ]
  },
  {
   "cell_type": "code",
   "execution_count": 5,
   "metadata": {},
   "outputs": [
    {
     "data": {
      "image/png": "[encoded data removed]",
      "text/plain": [
       "<Figure size 576x432 with 1 Axes>"
      ]
     },
     "metadata": {
      "needs_background": "light"
     },
     "output_type": "display_data"
    }
   ],
   "source": [
    "plt.hist(decay_energy, bins=np.geomspace(args[\"particle_def\"].mass, 1e14, 40))\n",
    "plt.xlabel(r'decay energy $\\,/\\, \\mathrm{MeV} $')\n",
    "plt.ylabel(\"counts\")\n",
    "plt.yscale(\"log\")\n",
    "plt.xscale(\"log\")"
   ]
  }
 ],
 "metadata": {
  "kernelspec": {
   "display_name": "Python 3",
   "language": "python",
   "name": "python3"
  },
  "language_info": {
   "codemirror_mode": {
    "name": "ipython",
    "version": 3
   },
   "file_extension": ".py",
   "mimetype": "text/x-python",
   "name": "python",
   "nbconvert_exporter": "python",
   "pygments_lexer": "ipython3",
   "version": "3.9.2"
  }
 },
 "nbformat": 4,
 "nbformat_minor": 4
}
