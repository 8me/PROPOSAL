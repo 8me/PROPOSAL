{
 "cells": [
  {
   "cell_type": "code",
   "execution_count": 1,
   "metadata": {},
   "outputs": [],
   "source": [
    "import proposal as pp\n",
    "import numpy as np\n",
    "import matplotlib.pyplot as plt\n",
    "\n",
    "plt.rcParams['figure.figsize'] = (8, 6)\n",
    "plt.rcParams['font.size'] = 12\n",
    "plt.rcParams['lines.linewidth'] = 2\n",
    "plt.rcParams['axes.labelsize'] = 14"
   ]
  },
  {
   "cell_type": "markdown",
   "metadata": {},
   "source": [
    "# Energy cut\n",
    "\n",
    "In PROPOSAL, the energy cut defines which energy losses should be treated continuously (all losses below the energy cut) and which losses should be treated stochastically (all losses above the energy cut)"
   ]
  },
  {
   "cell_type": "markdown",
   "metadata": {},
   "source": [
    "The energy cut in PROPOSAL is defined by an absolute energy cut, $e_\\mathrm{cut}$, and a relative energy cut, $v_\\mathrm{cut}$.\n",
    "From that, the actual energy cut is combined by the equation\n",
    "\n",
    "$$\n",
    "cut = \\min \\left( e_\\mathrm{cut} / E, v_\\mathrm{cut} \\right).\n",
    "$$\n",
    "\n",
    "Every differential crosssection is limited by its theoretical, kinematic limits $v_\\mathrm{max}$ and $v_\\mathrm{min}$. They are taken into account by\n",
    "\n",
    "$$\n",
    "cut' = \\min(v_\\mathrm{max}, \\max(v_\\mathrm{min}, cut)).\n",
    "$$"
   ]
  },
  {
   "cell_type": "markdown",
   "metadata": {},
   "source": [
    "For a better understanding of the energy cut, we define two toy functions. The first one gives a upper and the second one a lower kinematic integration limit (in units of relative energy lost) for the differential crosssections."
   ]
  },
  {
   "cell_type": "code",
   "execution_count": 2,
   "metadata": {},
   "outputs": [],
   "source": [
    "def calculate_vmax(energy):\n",
    "    shift, smooth = 1e3, 1e-5\n",
    "    return np.tanh(smooth*(energy- shift)) \n",
    "\n",
    "def calculate_vmin(energy):\n",
    "    return np.minimum([1e-5]*len(energy),calculate_vmax(energy))"
   ]
  },
  {
   "cell_type": "markdown",
   "metadata": {},
   "source": [
    "The energy cut object in PROPOSAL is defined by its $e_\\mathrm{cut}$, its $v_\\mathrm{cut}$ and a bool defining whether continuous losses should be considered or not:"
   ]
  },
  {
   "cell_type": "code",
   "execution_count": 3,
   "metadata": {},
   "outputs": [],
   "source": [
    "cut = pp.EnergyCutSettings(500,0.01,False)"
   ]
  },
  {
   "cell_type": "markdown",
   "metadata": {},
   "source": [
    "The following plot visualizes the combination of an $e_\\mathrm{cut}$, a $v_\\mathrm{cut}$ and kinematic limits for varying energies. The orange area represents continuous energy losses, the stochastic area represents stochastic energy losses."
   ]
  },
  {
   "cell_type": "code",
   "execution_count": 4,
   "metadata": {},
   "outputs": [
    {
     "data": {
      "text/plain": [
       "<matplotlib.legend.Legend at 0x10491e7c0>"
      ]
     },
     "execution_count": 4,
     "metadata": {},
     "output_type": "execute_result"
    },
    {
     "data": {
      "image/png": "[encoded data removed]",
      "text/plain": [
       "<Figure size 576x432 with 1 Axes>"
      ]
     },
     "metadata": {
      "needs_background": "light"
     },
     "output_type": "display_data"
    }
   ],
   "source": [
    "N_SAMPLE = 500\n",
    "energies = np.geomspace(1e3, 1e9, N_SAMPLE)\n",
    "\n",
    "vmax = calculate_vmax(energies)\n",
    "vmin = calculate_vmin(energies)\n",
    "cuts = np.empty(N_SAMPLE)\n",
    "\n",
    "for i in range(N_SAMPLE):\n",
    "    cuts[i] = cut.cut((vmin[i],vmax[i]), energies[i])\n",
    "    \n",
    "fig = plt.figure()\n",
    "ax = fig.add_subplot(111)\n",
    "ax.plot(energies, vmax, label=\"v_max\")\n",
    "ax.plot(energies, vmin, label=\"v_min\")\n",
    "zeros = np.zeros(N_SAMPLE)\n",
    "cut_energies = cuts*energies\n",
    "ax.fill_between(energies, vmin, cuts, facecolor='C1', alpha=0.2, label=\"interval for continuous losses\")\n",
    "ax.fill_between(energies, cuts, vmax, facecolor='C2', alpha=0.2, label=\"interval for stochastic losses\")\n",
    "\n",
    "plt.yscale(\"log\")\n",
    "plt.xscale(\"log\")\n",
    "plt.ylabel(\"integration limit\")\n",
    "plt.xlabel(\"Energy / MeV\")\n",
    "plt.legend(loc = \"best\")"
   ]
  },
  {
   "cell_type": "markdown",
   "metadata": {},
   "source": [
    "### Special cases\n",
    "We can define special cases for our energy cuts. If we want to use an $e_\\mathrm{cut}$ only, we can set $v_\\mathrm{cut} = 1$:"
   ]
  },
  {
   "cell_type": "code",
   "execution_count": 5,
   "metadata": {},
   "outputs": [],
   "source": [
    "only_e_cut = pp.EnergyCutSettings(500, 1, True)"
   ]
  },
  {
   "cell_type": "markdown",
   "metadata": {},
   "source": [
    "Similarly, if we want to use a $v_\\mathrm{cut}$ only, we can set $e_\\mathrm{cut} = \\infty$:"
   ]
  },
  {
   "cell_type": "code",
   "execution_count": 6,
   "metadata": {},
   "outputs": [],
   "source": [
    "only_v_cut = pp.EnergyCutSettings(np.inf, 0.05, True)"
   ]
  },
  {
   "cell_type": "markdown",
   "metadata": {},
   "source": [
    "If we want to propagate only continuously, we can set both $e_\\mathrm{cut}$ and $v_\\mathrm{cut}$ to their maximum value:"
   ]
  },
  {
   "cell_type": "code",
   "execution_count": 7,
   "metadata": {},
   "outputs": [],
   "source": [
    "only_stochastic = pp.EnergyCutSettings(np.inf, 1, True)"
   ]
  }
 ],
 "metadata": {
  "kernelspec": {
   "display_name": "Python 3",
   "language": "python",
   "name": "python3"
  },
  "language_info": {
   "codemirror_mode": {
    "name": "ipython",
    "version": 3
   },
   "file_extension": ".py",
   "mimetype": "text/x-python",
   "name": "python",
   "nbconvert_exporter": "python",
   "pygments_lexer": "ipython3",
   "version": "3.8.5"
  }
 },
 "nbformat": 4,
 "nbformat_minor": 4
}
