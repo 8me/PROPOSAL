{
 "cells": [
  {
   "cell_type": "code",
   "execution_count": 1,
   "metadata": {},
   "outputs": [],
   "source": [
    "import proposal as pp\n",
    "import numpy as np\n",
    "import matplotlib.pyplot as plt"
   ]
  },
  {
   "cell_type": "markdown",
   "metadata": {},
   "source": [
    "# Energy cut\n",
    "\n",
    "For a better understanding of the energy cut, two toy function will be called. The first one gives a upper and the second one a lower kinematic integration limit for the differential crosssections."
   ]
  },
  {
   "cell_type": "code",
   "execution_count": 2,
   "metadata": {},
   "outputs": [],
   "source": [
    "def calculate_vmax(energy):\n",
    "    shift, smooth = 1e3, 1e-5\n",
    "    return np.tanh(smooth*(energy- shift)) \n",
    "\n",
    "def calculate_vmin(energy):\n",
    "    return np.minimum([1e-5]*len(energy),calculate_vmax(energy))"
   ]
  },
  {
   "cell_type": "markdown",
   "metadata": {},
   "source": [
    "An absoult $e_{cut}$ and a relativ $v_{cut}$ energy cut can be set two slice the differential crosssection in a part which can be handeled continuously and stochastically. \n",
    "In general the $cut$ as a function of energy $E$ can be calculated solving the equation \n",
    "$$\n",
    "cut = \\min \\left( e_{cut} / E, v_{cut} \\right)\n",
    "$$\n",
    "\n",
    "This section is limited by the theoretical limits of the effective cross section. Taken this into account a cut get the form like\n",
    "$$\n",
    "cut' = \\min(v_{max}, \\max(v_{min}, cut))\n",
    "$$"
   ]
  },
  {
   "cell_type": "code",
   "execution_count": 4,
   "metadata": {},
   "outputs": [],
   "source": [
    "cut = pp.EnergyCutSettings(500,0.05,False)"
   ]
  },
  {
   "cell_type": "code",
   "execution_count": 24,
   "metadata": {},
   "outputs": [
    {
     "data": {
      "text/plain": [
       "<matplotlib.legend.Legend at 0x7f3ddae1edc0>"
      ]
     },
     "execution_count": 24,
     "metadata": {},
     "output_type": "execute_result"
    },
    {
     "data": {
      "image/png": "[encoded data removed]",
      "text/plain": [
       "<Figure size 432x288 with 1 Axes>"
      ]
     },
     "metadata": {
      "needs_background": "light"
     },
     "output_type": "display_data"
    }
   ],
   "source": [
    "N_SAMPLE = 70\n",
    "energies = np.geomspace(1e3, 1e9, 70)\n",
    "\n",
    "vmax = calculate_vmax(energies)\n",
    "vmin = calculate_vmin(energies)\n",
    "cuts = np.empty(N_SAMPLE)\n",
    "\n",
    "for i in range(N_SAMPLE):\n",
    "    cuts[i] = cut.cut((vmin[i],vmax[i]), energies[i])\n",
    "    \n",
    "fig = plt.figure()\n",
    "ax = fig.add_subplot(111)\n",
    "ax.plot(energies, energies*vmax, label=\"v_max\")\n",
    "ax.plot(energies, energies*vmin, label=\"v_min\")\n",
    "zeros = np.zeros(N_SAMPLE)\n",
    "cut_energies = cuts*energies\n",
    "ax.fill_between(energies, cut_energies, zeros, where=(cut_energies > zeros), facecolor='C2', alpha=0.2, label=\"v_cut\")\n",
    "plt.yscale(\"log\")\n",
    "plt.xscale(\"log\")\n",
    "plt.ylabel(\"Integration limit / MeV\")\n",
    "plt.xlabel(\"Energy / MeV\")\n",
    "plt.legend()"
   ]
  },
  {
   "cell_type": "code",
   "execution_count": null,
   "metadata": {},
   "outputs": [],
   "source": []
  }
 ],
 "metadata": {
  "kernelspec": {
   "display_name": "Python 3",
   "language": "python",
   "name": "python3"
  },
  "language_info": {
   "codemirror_mode": {
    "name": "ipython",
    "version": 3
   },
   "file_extension": ".py",
   "mimetype": "text/x-python",
   "name": "python",
   "nbconvert_exporter": "python",
   "pygments_lexer": "ipython3",
   "version": "3.8.5"
  }
 },
 "nbformat": 4,
 "nbformat_minor": 4
}
