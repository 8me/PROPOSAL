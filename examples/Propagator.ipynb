{
 "cells": [
  {
   "cell_type": "code",
   "execution_count": null,
   "metadata": {},
   "outputs": [],
   "source": [
    "import proposal as pp\n",
    "\n",
    "pp.InterpolationDef.path_to_tables = \"/home/msackel/.local/share/PROPOSAL/\"\n",
    "N_SAMPLES = int(1e4)"
   ]
  },
  {
   "cell_type": "code",
   "execution_count": 2,
   "metadata": {},
   "outputs": [],
   "source": [
    "args = {\n",
    "    \"particle_def\": pp.particle.MuMinusDef(),\n",
    "    \"target\": pp.medium.Ice(),\n",
    "    \"interpolate\": True,\n",
    "    \"cuts\": pp.EnergyCutSettings(500, 0.05, False)\n",
    "}\n",
    "\n",
    "cross = pp.crosssection.make_std_crosssection(**args)"
   ]
  },
  {
   "cell_type": "code",
   "execution_count": 3,
   "metadata": {},
   "outputs": [],
   "source": [
    "collection = pp.PropagationUtilityCollection()\n",
    "collection.displacement = pp.make_displacement(cross, True)\n",
    "collection.interaction = pp.make_interaction(cross, True)\n",
    "collection.time = pp.make_time(cross, args[\"particle_def\"], True)\n",
    "\n",
    "utility = pp.PropagationUtility(collection = collection)"
   ]
  },
  {
   "cell_type": "code",
   "execution_count": 4,
   "metadata": {},
   "outputs": [],
   "source": [
    "detector = pp.geometry.Box(pp.Vector3D(0,0,0), 1e7, 1e7, 1e7)\n",
    "density_distr = pp.medium.density_homogeneous(args[\"target\"].mass_density, 1.0)\n",
    "\n",
    "prop = pp.Propagator(args[\"particle_def\"], [(detector, utility, density_distr)])\n",
    "\n",
    "initial_state = pp.particle.DynamicData(args[\"particle_def\"].particle_type)\n",
    "initial_state.energy = 1e8\n",
    "initial_state.direction = pp.Vector3D(1,0,0)"
   ]
  },
  {
   "cell_type": "code",
   "execution_count": 8,
   "metadata": {},
   "outputs": [
    {
     "name": "stderr",
     "output_type": "stream",
     "text": [
      "100%|██████████| 1000/1000 [00:23<00:00, 41.71it/s]\n"
     ]
    }
   ],
   "source": [
    "from tqdm import tqdm\n",
    "import numpy as np\n",
    "\n",
    "STATISTICS = int(1e3)\n",
    "final_energy = np.empty(STATISTICS)\n",
    "for i in tqdm(range(STATISTICS)):\n",
    "    sec = prop.propagate(initial_state, 1e5, 1e3)\n",
    "    #final_energy[i] = sec[-1]"
   ]
  },
  {
   "cell_type": "code",
   "execution_count": 10,
   "metadata": {},
   "outputs": [
    {
     "data": {
      "text/plain": [
       "array([105.6583745, 105.6583745, 105.6583745, ..., 105.6583745,\n",
       "       105.6583745, 105.6583745])"
      ]
     },
     "execution_count": 10,
     "metadata": {},
     "output_type": "execute_result"
    }
   ],
   "source": [
    "final_energy"
   ]
  },
  {
   "cell_type": "code",
   "execution_count": 8,
   "metadata": {},
   "outputs": [
    {
     "ename": "SyntaxError",
     "evalue": "invalid syntax (<ipython-input-8-8de6428521d8>, line 1)",
     "output_type": "error",
     "traceback": [
      "\u001b[0;36m  File \u001b[0;32m\"<ipython-input-8-8de6428521d8>\"\u001b[0;36m, line \u001b[0;32m1\u001b[0m\n\u001b[0;31m    6:28 min, cut: 500, 0.05\u001b[0m\n\u001b[0m         ^\u001b[0m\n\u001b[0;31mSyntaxError\u001b[0m\u001b[0;31m:\u001b[0m invalid syntax\n"
     ]
    }
   ],
   "source": [
    "6:28 min, cut: 500, 0.05"
   ]
  },
  {
   "cell_type": "code",
   "execution_count": 9,
   "metadata": {},
   "outputs": [
    {
     "name": "stderr",
     "output_type": "stream",
     "text": [
      "<ipython-input-9-57028b8413e0>:6: UserWarning: Data has no positive values, and therefore cannot be log-scaled.\n",
      "  plt.yscale(\"log\")\n"
     ]
    },
    {
     "data": {
      "image/png": "[encoded data removed]",
      "text/plain": [
       "<Figure size 432x288 with 1 Axes>"
      ]
     },
     "metadata": {
      "needs_background": "light"
     },
     "output_type": "display_data"
    }
   ],
   "source": [
    "# print(final_energy)\n",
    "import matplotlib.pyplot as plt\n",
    "import numpy as np\n",
    "plt.hist(final_energy, bins = np.geomspace(4e7, 1e8, 100), histtype=\"step\")\n",
    "plt.xscale(\"log\")\n",
    "plt.yscale(\"log\")"
   ]
  },
  {
   "cell_type": "code",
   "execution_count": null,
   "metadata": {},
   "outputs": [],
   "source": [
    "print(\"hello world\")"
   ]
  },
  {
   "cell_type": "code",
   "execution_count": null,
   "metadata": {},
   "outputs": [],
   "source": []
  }
 ],
 "metadata": {
  "kernelspec": {
   "display_name": "Python 3",
   "language": "python",
   "name": "python3"
  },
  "language_info": {
   "codemirror_mode": {
    "name": "ipython",
    "version": 3
   },
   "file_extension": ".py",
   "mimetype": "text/x-python",
   "name": "python",
   "nbconvert_exporter": "python",
   "pygments_lexer": "ipython3",
   "version": "3.8.5"
  }
 },
 "nbformat": 4,
 "nbformat_minor": 4
}
