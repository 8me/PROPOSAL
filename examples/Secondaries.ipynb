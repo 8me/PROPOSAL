{
 "cells": [
  {
   "cell_type": "code",
   "execution_count": 1,
   "metadata": {},
   "outputs": [],
   "source": [
    "import proposal as pp\n",
    "import numpy as np"
   ]
  },
  {
   "cell_type": "markdown",
   "metadata": {},
   "source": [
    "## Secondary calculator\n",
    "PROPOSAL differentiates between `StochasticLoss` objects, describing a stochastic interaction point, and `ParticleState` objects, describing an individual particle.\n",
    "If one is interested in the latter, PROPOSAL can turn a `StochasticLoss` objects into `ParticleState` objects, corresponding to the particles produced in the stochastic interaction.\n",
    "\n",
    "Let us assume that we have a muon in air which encountered a stochastic EPairProduction. First, we define a `StochasticLoss` object:"
   ]
  },
  {
   "cell_type": "code",
   "execution_count": 2,
   "metadata": {},
   "outputs": [],
   "source": [
    "particle = pp.particle.MuMinusDef()\n",
    "target = pp.medium.Air()\n",
    "\n",
    "# type of our stochastic interaction, change this variable to try other interaction types!\n",
    "inter_type = pp.particle.Interaction_Type.epair \n",
    "\n",
    "initial_energy = 1e5\n",
    "v = 0.99725 # energy lost by the muon in the stochastic interaction\n",
    "position = pp.Vector3D(0, 0, 0) # position where the interaction happend\n",
    "direction = pp.Vector3D(1, 0, 0) # direction of the muon when the interaction happend\n",
    "\n",
    "loss = pp.particle.StochasticLoss(inter_type, v * initial_energy, position, direction, 0., 0., initial_energy)"
   ]
  },
  {
   "cell_type": "markdown",
   "metadata": {},
   "source": [
    "The class `make_secondary` provides, for each `inter_type`, a class that can turn `StochasticLoss` objects into `ParticleState` objects.:"
   ]
  },
  {
   "cell_type": "code",
   "execution_count": 3,
   "metadata": {},
   "outputs": [],
   "source": [
    "epair_sec_calc = pp.secondaries.make_secondary(inter_type, particle, target)"
   ]
  },
  {
   "cell_type": "markdown",
   "metadata": {},
   "source": [
    "Now, we pass our `StochasticLoss` and print the type and energies of the particles created in this interaction."
   ]
  },
  {
   "cell_type": "code",
   "execution_count": 4,
   "metadata": {},
   "outputs": [
    {
     "name": "stdout",
     "output_type": "stream",
     "text": [
      "type: MuMinus,\t energy: 275.0 MeV\n",
      "type: EMinus,\t energy: 91889.9080223338 MeV\n",
      "type: EPlus,\t energy: 7835.091977666209 MeV\n"
     ]
    }
   ],
   "source": [
    "comp = pp.component.Nitrogen() # specifying the medium component where the interaction happend\n",
    "\n",
    "secondaries = epair_sec_calc.calculate_secondaries(loss, comp, np.random.rand(epair_sec_calc.random_numbers))\n",
    "for s in secondaries:\n",
    "    print(f\"type: {s.particle_def.name},\\t energy: {s.energy} MeV\")"
   ]
  }
 ],
 "metadata": {
  "kernelspec": {
   "display_name": "Python 3",
   "language": "python",
   "name": "python3"
  },
  "language_info": {
   "codemirror_mode": {
    "name": "ipython",
    "version": 3
   },
   "file_extension": ".py",
   "mimetype": "text/x-python",
   "name": "python",
   "nbconvert_exporter": "python",
   "pygments_lexer": "ipython3",
   "version": "3.8.5"
  }
 },
 "nbformat": 4,
 "nbformat_minor": 4
}
