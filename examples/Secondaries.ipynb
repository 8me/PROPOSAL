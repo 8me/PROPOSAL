{
 "cells": [
  {
   "cell_type": "code",
   "execution_count": 8,
   "metadata": {},
   "outputs": [],
   "source": [
    "import proposal as pp\n",
    "import numpy as np"
   ]
  },
  {
   "cell_type": "code",
   "execution_count": 9,
   "metadata": {},
   "outputs": [],
   "source": [
    "particle = pp.particle.MuMinusDef()\n",
    "target = pp.medium.Air()\n",
    "inter_type = pp.particle.Interaction_Type.epair\n",
    "epair_sec_calc = pp.secondaries.make_secondary(inter_type, particle, target)"
   ]
  },
  {
   "cell_type": "code",
   "execution_count": 104,
   "metadata": {},
   "outputs": [
    {
     "name": "stdout",
     "output_type": "stream",
     "text": [
      "type: MuMinus,\t energy:     275 MeV\n",
      "type: EMinus,\t energy:   78194 MeV\n",
      "type: EPlus,\t energy:   21531 MeV\n"
     ]
    }
   ],
   "source": [
    "initial_energy = 1e5\n",
    "v = 0.99725\n",
    "final_energy = initial_energy * v\n",
    "loss = (pp.particle.Interaction_Type.epair, pp.Vector3D(0,0,0), pp.Vector3D(1,0,0), final_energy, 0.)\n",
    "comp = pp.component.Nitrogen()\n",
    "\n",
    "secondaries = epair_sec_calc.calculate_secondaries(initial_energy, loss, comp, np.random.rand(sec_calc.random_numbers))\n",
    "for s in secondaries:\n",
    "    print(f\"type: {pp.particle.Particle_Type(s[0]).name},\\t energy: {s[3]:7.0f} MeV\")"
   ]
  },
  {
   "cell_type": "code",
   "execution_count": null,
   "metadata": {},
   "outputs": [],
   "source": []
  }
 ],
 "metadata": {
  "kernelspec": {
   "display_name": "Python 3",
   "language": "python",
   "name": "python3"
  },
  "language_info": {
   "codemirror_mode": {
    "name": "ipython",
    "version": 3
   },
   "file_extension": ".py",
   "mimetype": "text/x-python",
   "name": "python",
   "nbconvert_exporter": "python",
   "pygments_lexer": "ipython3",
   "version": "3.8.5"
  }
 },
 "nbformat": 4,
 "nbformat_minor": 4
}
