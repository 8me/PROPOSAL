{
 "cells": [
  {
   "cell_type": "code",
   "execution_count": 1,
   "metadata": {},
   "outputs": [],
   "source": [
    "import proposal as pp\n",
    "import numpy as np\n",
    "import matplotlib.pyplot as plt\n",
    "from scipy.stats import norm\n",
    "\n",
    "pp.InterpolationDef.path_to_tables = \"/home/msackel/.local/share/PROPOSAL/\"\n",
    "N_SAMPLES = int(1e4)"
   ]
  },
  {
   "cell_type": "code",
   "execution_count": 2,
   "metadata": {},
   "outputs": [],
   "source": [
    "args = {\n",
    "    \"particle_def\": pp.particle.TauMinusDef(),\n",
    "    \"target\": pp.medium.StandardRock(),\n",
    "    \"interpolate\": True,\n",
    "    \"cuts\": pp.EnergyCutSettings(500, 1, True)\n",
    "}\n",
    "\n",
    "cross = pp.crosssection.make_std_crosssection(**args)\n",
    "time_calc = pp.make_time(cross, args[\"particle_def\"], True)"
   ]
  },
  {
   "cell_type": "code",
   "execution_count": 9,
   "metadata": {},
   "outputs": [],
   "source": [
    "initial_energy = 1e14\n",
    "distance = 1e-3* 6.3e8  # fraction of earth radius motivated by tau regenarition\n",
    "disp = pp.make_displacement(cross, True) \n",
    "\n",
    "# Check how much energy is losen propagate through a significant fraction through earth \n",
    "final_energy = disp.upper_limit_track_integral(initial_energy, distance) \n",
    "\n",
    "time = time_calc.elapsed(initial_energy, final_energy, distance,args[\"target\"].mass_density) "
   ]
  },
  {
   "cell_type": "code",
   "execution_count": 11,
   "metadata": {},
   "outputs": [
    {
     "name": "stdout",
     "output_type": "stream",
     "text": [
      "Propagate a muon through one thousandth of of earth radius take 7930.01 ns.\n",
      "21014.537997483578\n",
      "It is 27316618.0 times the tau-lifetime.\n"
     ]
    }
   ],
   "source": [
    "print(f\"Propagate a muon through one thousandth of of earth radius take {np.round(time*1e9, 2)} ns.\")\n",
    "print(distance / 29979245800 * 1e9)\n",
    "print(f\"It is {np.round(time / args['particle_def'].lifetime)} times the tau-lifetime.\")"
   ]
  }
 ],
 "metadata": {
  "kernelspec": {
   "display_name": "Python 3",
   "language": "python",
   "name": "python3"
  },
  "language_info": {
   "codemirror_mode": {
    "name": "ipython",
    "version": 3
   },
   "file_extension": ".py",
   "mimetype": "text/x-python",
   "name": "python",
   "nbconvert_exporter": "python",
   "pygments_lexer": "ipython3",
   "version": "3.8.5"
  }
 },
 "nbformat": 4,
 "nbformat_minor": 4
}
